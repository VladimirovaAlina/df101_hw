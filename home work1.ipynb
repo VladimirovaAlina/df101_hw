{
 "cells": [
  {
   "cell_type": "code",
   "execution_count": 1,
   "metadata": {},
   "outputs": [],
   "source": [
    "def info():\n",
    "    names = input('enter your name: ').split(';')\n",
    "    ages = input('enter your age: ').split(';')\n",
    "    rez = {}\n",
    "    s = 0\n",
    "    n = 0\n",
    "\n",
    "    for i in ages:\n",
    "        s = s+int(i)\n",
    "        n+=1\n",
    "    print('avarage age:', s/n)\n",
    "\n",
    "    import secrets\n",
    "    import string\n",
    "\n",
    "    age = 0\n",
    "    for name in names:\n",
    "        alphabet = string.ascii_letters + string.digits\n",
    "        password = ''.join(secrets.choice(alphabet) for i in range(8))\n",
    "        rez[password]= name,ages[age]\n",
    "        age+=1    \n",
    "    print(rez)"
   ]
  },
  {
   "cell_type": "code",
   "execution_count": 3,
   "metadata": {},
   "outputs": [
    {
     "name": "stdout",
     "output_type": "stream",
     "text": [
      "enter your name: Masha; Misha\n",
      "enter your age: 34;22\n",
      "avarage age: 28.0\n",
      "{'7ly9T1DQ': ('Masha', '34'), 'USpIUiaN': (' Misha', '22')}\n"
     ]
    }
   ],
   "source": [
    "info()"
   ]
  },
  {
   "cell_type": "code",
   "execution_count": null,
   "metadata": {},
   "outputs": [],
   "source": []
  }
 ],
 "metadata": {
  "kernelspec": {
   "display_name": "Python 3",
   "language": "python",
   "name": "python3"
  },
  "language_info": {
   "codemirror_mode": {
    "name": "ipython",
    "version": 3
   },
   "file_extension": ".py",
   "mimetype": "text/x-python",
   "name": "python",
   "nbconvert_exporter": "python",
   "pygments_lexer": "ipython3",
   "version": "3.6.5"
  }
 },
 "nbformat": 4,
 "nbformat_minor": 2
}
