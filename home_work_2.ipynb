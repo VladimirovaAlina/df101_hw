{
 "cells": [
  {
   "cell_type": "markdown",
   "metadata": {},
   "source": [
    "### Задача\n",
    "разработать формулу для расчета рейтинга студента  (определить показатели, которые учитываются в формуле, напр.: баллы за тесты, д/з, проект и тд.),\n",
    "разработать программу, которая позволяет преподавателю вести рейтинг студентов.\n",
    "\n",
    "\n",
    "Класс Student;\n",
    "\n",
    "Атрибуты/переменные класса:\n",
    "имя,\n",
    "фамилия,\n",
    "email,\n",
    "… [показатели],\n",
    "рейтинг студента.\n",
    "\n"
   ]
  },
  {
   "cell_type": "markdown",
   "metadata": {},
   "source": [
    "##### Меню\n",
    "При запуске программы выводится меню*:\n",
    "\n",
    "Введите 0, чтобы добавить  студента*.\n",
    "[пользователь вводит через разделитель(напр., пробел) имя, фамилию, все показатели рейтинга]*,\n",
    "[генерируется ID студента]*,\n",
    "[снова выводится меню].\n",
    "\n",
    "Введите 1, чтобы вывести список всех студентов*.\n",
    "[выводится список студентов в алфавитном порядке (1ый столбец - ID; 2ой - имя, фамилия студента).]*,\n",
    "[снова выводится меню].\n",
    "\n",
    "Введите 2 и ID студента через пробел, чтобы вывести всю информацию о студенте*.\n",
    "[выводится вся информация о студенте с заданным ID*],\n",
    "[снова выводится меню].\n",
    "\n",
    "Введите 3 и ID студента через пробел, чтобы изменить рейтинг студента*.\n",
    "[пользователь вводит значения всех показателей через разделитель],\n",
    "[программа вычисляет новый рейтинг на основе показателей],\n",
    "[снова выводится меню].\n",
    "\n",
    "Введите 4 и ID студента через пробел, чтобы удалить студента*.\n",
    "[студент с заданным ID удаляется из контейнера/хранилища]*,"
   ]
  },
  {
   "cell_type": "code",
   "execution_count": 1,
   "metadata": {},
   "outputs": [],
   "source": [
    "class Student:\n",
    "    \n",
    "    def __init__(self, name, lastname, email, test1, test2, project_score):\n",
    "        self.name = name\n",
    "        self.lastname = lastname\n",
    "        self.email = email\n",
    "        self.test1 = test1\n",
    "        self.test2 = test2\n",
    "        self.project_score = project_score\n",
    "        self.score = test1+test2+1.5*project_score\n",
    "        \n",
    "    # change score\n",
    "    def new_score(self, test1, test2, project_score):\n",
    "        self.test1 = test1\n",
    "        self.test2 = test2\n",
    "        self.project_score = project_score\n",
    "        self.score = test1+test2+1.5*project_score\n",
    "    "
   ]
  },
  {
   "cell_type": "code",
   "execution_count": 2,
   "metadata": {},
   "outputs": [],
   "source": [
    "all_students = {}\n",
    "ID_students = 0"
   ]
  },
  {
   "cell_type": "code",
   "execution_count": null,
   "metadata": {},
   "outputs": [],
   "source": [
    "while True:\n",
    "    \n",
    "    start_menu = input( \"\"\"\n",
    "                 Enter 0 to add a student\n",
    "                 Enter 1 to list all students \n",
    "                 Enter 2 and the student's ID (space as seporater) to display all the information about the student\n",
    "                 Enter 3 and the student's ID (space as seporater) to change student rating\n",
    "                 Enter 4 and the student's ID (space as seporater) to remove student\n",
    "                 Enter 666 to end\n",
    "                 \n",
    "                 \"\"\").split()\n",
    "    menu = int(start_menu[0])\n",
    "    if menu in [2,3,4]:\n",
    "        ID = int(start_menu[1])\n",
    "    \n",
    "    if menu == 0:\n",
    "        info = input(\"\"\"Enter info about student: name, lastname, email, test1, test2, project_score.\n",
    "                        (Use space as seporater) \"\"\").split()\n",
    "        ID_students+=1\n",
    "        all_students[ID_students] = Student(info[0],info[1],info[2],int(info[3]),int(info[4]),int(info[5]))\n",
    "        \n",
    "    elif menu == 1:\n",
    "        import operator\n",
    "        list_stud = {}\n",
    "        for stud in all_students.keys():\n",
    "            list_stud[stud] = all_students[stud].lastname,all_students[stud].name\n",
    "            sorted_list_stud = sorted(list_stud.items(), key=operator.itemgetter(1))\n",
    "        print('In alphabetical order by Last name!\\n')\n",
    "        for kof in sorted_list_stud:\n",
    "            print('ID: %s   Last_name&Name: %s ' %(kof[0], kof[1]))\n",
    "            \n",
    "    elif menu == 2:\n",
    "        for attribute in dir(all_students[ID]): \n",
    "            if attribute[0] != '_' and attribute != 'new_score': \n",
    "                print(attribute, ':', getattr(all_students[ID], attribute))\n",
    "        \n",
    "        \n",
    "    elif menu == 3:\n",
    "        info = input(\"\"\"Enter new data: test1, test2, project_score.\n",
    "                        (Use space as seporater) \"\"\").split()\n",
    "        all_students[ID].new_score(int(info[0]), int(info[1]), int(info[2]))\n",
    "        \n",
    "    elif menu == 4:\n",
    "        all_students.pop(ID)\n",
    "        print('Student with ID=%s was deleted' %ID)\n",
    "        \n",
    "    elif menu == 666 :\n",
    "        break\n",
    "        \n",
    "    else: \n",
    "        print('Erro: enter from 0 to 4 ')\n"
   ]
  },
  {
   "cell_type": "code",
   "execution_count": null,
   "metadata": {},
   "outputs": [],
   "source": []
  }
 ],
 "metadata": {
  "kernelspec": {
   "display_name": "Python 3",
   "language": "python",
   "name": "python3"
  },
  "language_info": {
   "codemirror_mode": {
    "name": "ipython",
    "version": 3
   },
   "file_extension": ".py",
   "mimetype": "text/x-python",
   "name": "python",
   "nbconvert_exporter": "python",
   "pygments_lexer": "ipython3",
   "version": "3.6.5"
  }
 },
 "nbformat": 4,
 "nbformat_minor": 2
}
